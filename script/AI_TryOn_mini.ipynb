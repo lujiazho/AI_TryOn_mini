{
  "nbformat": 4,
  "nbformat_minor": 0,
  "metadata": {
    "colab": {
      "provenance": [],
      "gpuType": "T4"
    },
    "kernelspec": {
      "name": "python3",
      "display_name": "Python 3"
    },
    "language_info": {
      "name": "python"
    },
    "accelerator": "GPU"
  },
  "cells": [
    {
      "cell_type": "code",
      "execution_count": 1,
      "metadata": {
        "colab": {
          "base_uri": "https://localhost:8080/"
        },
        "id": "ZVDhXn69noSc",
        "outputId": "098cd452-2bf5-4904-be03-dc93dfd5a309"
      },
      "outputs": [
        {
          "output_type": "stream",
          "name": "stdout",
          "text": [
            "Cloning into 'AI_TryOn_mini'...\n",
            "remote: Enumerating objects: 130, done.\u001b[K\n",
            "remote: Counting objects: 100% (130/130), done.\u001b[K\n",
            "remote: Compressing objects: 100% (107/107), done.\u001b[K\n",
            "remote: Total 130 (delta 27), reused 100 (delta 14), pack-reused 0\u001b[K\n",
            "Receiving objects: 100% (130/130), 11.14 MiB | 26.35 MiB/s, done.\n",
            "Resolving deltas: 100% (27/27), done.\n"
          ]
        }
      ],
      "source": [
        "!git clone https://github.com/lujiazho/AI_TryOn_mini.git"
      ]
    },
    {
      "cell_type": "code",
      "source": [
        "%cd AI_TryOn_mini"
      ],
      "metadata": {
        "colab": {
          "base_uri": "https://localhost:8080/"
        },
        "id": "6F9fjeKunrOq",
        "outputId": "364d7320-7284-4127-9eea-beeba90ff985"
      },
      "execution_count": 2,
      "outputs": [
        {
          "output_type": "stream",
          "name": "stdout",
          "text": [
            "/content/AI_TryOn_mini\n"
          ]
        }
      ]
    },
    {
      "cell_type": "code",
      "source": [
        "!pip install uvicorn fastapi omegaconf einops pytorch-lightning safetensors pyngrok python-multipart transformers"
      ],
      "metadata": {
        "colab": {
          "base_uri": "https://localhost:8080/"
        },
        "id": "DKNO18E0oeVZ",
        "outputId": "6e218328-9b0c-4144-acd2-3cd496a988cb"
      },
      "execution_count": 17,
      "outputs": [
        {
          "output_type": "stream",
          "name": "stdout",
          "text": [
            "Requirement already satisfied: uvicorn in /usr/local/lib/python3.10/dist-packages (0.23.2)\n",
            "Requirement already satisfied: fastapi in /usr/local/lib/python3.10/dist-packages (0.103.1)\n",
            "Requirement already satisfied: omegaconf in /usr/local/lib/python3.10/dist-packages (2.3.0)\n",
            "Requirement already satisfied: einops in /usr/local/lib/python3.10/dist-packages (0.6.1)\n",
            "Requirement already satisfied: pytorch-lightning in /usr/local/lib/python3.10/dist-packages (2.0.8)\n",
            "Requirement already satisfied: safetensors in /usr/local/lib/python3.10/dist-packages (0.3.3)\n",
            "Requirement already satisfied: pyngrok in /usr/local/lib/python3.10/dist-packages (6.0.0)\n",
            "Requirement already satisfied: python-multipart in /usr/local/lib/python3.10/dist-packages (0.0.6)\n",
            "Collecting transformers\n",
            "  Downloading transformers-4.33.1-py3-none-any.whl (7.6 MB)\n",
            "\u001b[2K     \u001b[90m━━━━━━━━━━━━━━━━━━━━━━━━━━━━━━━━━━━━━━━━\u001b[0m \u001b[32m7.6/7.6 MB\u001b[0m \u001b[31m15.8 MB/s\u001b[0m eta \u001b[36m0:00:00\u001b[0m\n",
            "\u001b[?25hRequirement already satisfied: click>=7.0 in /usr/local/lib/python3.10/dist-packages (from uvicorn) (8.1.7)\n",
            "Requirement already satisfied: h11>=0.8 in /usr/local/lib/python3.10/dist-packages (from uvicorn) (0.14.0)\n",
            "Requirement already satisfied: typing-extensions>=4.0 in /usr/local/lib/python3.10/dist-packages (from uvicorn) (4.7.1)\n",
            "Requirement already satisfied: anyio<4.0.0,>=3.7.1 in /usr/local/lib/python3.10/dist-packages (from fastapi) (3.7.1)\n",
            "Requirement already satisfied: pydantic!=1.8,!=1.8.1,!=2.0.0,!=2.0.1,!=2.1.0,<3.0.0,>=1.7.4 in /usr/local/lib/python3.10/dist-packages (from fastapi) (2.2.1)\n",
            "Requirement already satisfied: starlette<0.28.0,>=0.27.0 in /usr/local/lib/python3.10/dist-packages (from fastapi) (0.27.0)\n",
            "Requirement already satisfied: antlr4-python3-runtime==4.9.* in /usr/local/lib/python3.10/dist-packages (from omegaconf) (4.9.3)\n",
            "Requirement already satisfied: PyYAML>=5.1.0 in /usr/local/lib/python3.10/dist-packages (from omegaconf) (6.0.1)\n",
            "Requirement already satisfied: numpy>=1.17.2 in /usr/local/lib/python3.10/dist-packages (from pytorch-lightning) (1.23.5)\n",
            "Requirement already satisfied: torch>=1.11.0 in /usr/local/lib/python3.10/dist-packages (from pytorch-lightning) (2.0.1+cu118)\n",
            "Requirement already satisfied: tqdm>=4.57.0 in /usr/local/lib/python3.10/dist-packages (from pytorch-lightning) (4.66.1)\n",
            "Requirement already satisfied: fsspec[http]>2021.06.0 in /usr/local/lib/python3.10/dist-packages (from pytorch-lightning) (2023.6.0)\n",
            "Requirement already satisfied: torchmetrics>=0.7.0 in /usr/local/lib/python3.10/dist-packages (from pytorch-lightning) (1.1.1)\n",
            "Requirement already satisfied: packaging>=17.1 in /usr/local/lib/python3.10/dist-packages (from pytorch-lightning) (23.1)\n",
            "Requirement already satisfied: lightning-utilities>=0.7.0 in /usr/local/lib/python3.10/dist-packages (from pytorch-lightning) (0.9.0)\n",
            "Requirement already satisfied: filelock in /usr/local/lib/python3.10/dist-packages (from transformers) (3.12.2)\n",
            "Collecting huggingface-hub<1.0,>=0.15.1 (from transformers)\n",
            "  Downloading huggingface_hub-0.16.4-py3-none-any.whl (268 kB)\n",
            "\u001b[2K     \u001b[90m━━━━━━━━━━━━━━━━━━━━━━━━━━━━━━━━━━━━━━\u001b[0m \u001b[32m268.8/268.8 kB\u001b[0m \u001b[31m27.5 MB/s\u001b[0m eta \u001b[36m0:00:00\u001b[0m\n",
            "\u001b[?25hRequirement already satisfied: regex!=2019.12.17 in /usr/local/lib/python3.10/dist-packages (from transformers) (2023.6.3)\n",
            "Requirement already satisfied: requests in /usr/local/lib/python3.10/dist-packages (from transformers) (2.31.0)\n",
            "Collecting tokenizers!=0.11.3,<0.14,>=0.11.1 (from transformers)\n",
            "  Downloading tokenizers-0.13.3-cp310-cp310-manylinux_2_17_x86_64.manylinux2014_x86_64.whl (7.8 MB)\n",
            "\u001b[2K     \u001b[90m━━━━━━━━━━━━━━━━━━━━━━━━━━━━━━━━━━━━━━━━\u001b[0m \u001b[32m7.8/7.8 MB\u001b[0m \u001b[31m38.3 MB/s\u001b[0m eta \u001b[36m0:00:00\u001b[0m\n",
            "\u001b[?25hRequirement already satisfied: idna>=2.8 in /usr/local/lib/python3.10/dist-packages (from anyio<4.0.0,>=3.7.1->fastapi) (3.4)\n",
            "Requirement already satisfied: sniffio>=1.1 in /usr/local/lib/python3.10/dist-packages (from anyio<4.0.0,>=3.7.1->fastapi) (1.3.0)\n",
            "Requirement already satisfied: exceptiongroup in /usr/local/lib/python3.10/dist-packages (from anyio<4.0.0,>=3.7.1->fastapi) (1.1.3)\n",
            "Requirement already satisfied: aiohttp!=4.0.0a0,!=4.0.0a1 in /usr/local/lib/python3.10/dist-packages (from fsspec[http]>2021.06.0->pytorch-lightning) (3.8.5)\n",
            "Requirement already satisfied: annotated-types>=0.4.0 in /usr/local/lib/python3.10/dist-packages (from pydantic!=1.8,!=1.8.1,!=2.0.0,!=2.0.1,!=2.1.0,<3.0.0,>=1.7.4->fastapi) (0.5.0)\n",
            "Requirement already satisfied: pydantic-core==2.6.1 in /usr/local/lib/python3.10/dist-packages (from pydantic!=1.8,!=1.8.1,!=2.0.0,!=2.0.1,!=2.1.0,<3.0.0,>=1.7.4->fastapi) (2.6.1)\n",
            "Requirement already satisfied: sympy in /usr/local/lib/python3.10/dist-packages (from torch>=1.11.0->pytorch-lightning) (1.12)\n",
            "Requirement already satisfied: networkx in /usr/local/lib/python3.10/dist-packages (from torch>=1.11.0->pytorch-lightning) (3.1)\n",
            "Requirement already satisfied: jinja2 in /usr/local/lib/python3.10/dist-packages (from torch>=1.11.0->pytorch-lightning) (3.1.2)\n",
            "Requirement already satisfied: triton==2.0.0 in /usr/local/lib/python3.10/dist-packages (from torch>=1.11.0->pytorch-lightning) (2.0.0)\n",
            "Requirement already satisfied: cmake in /usr/local/lib/python3.10/dist-packages (from triton==2.0.0->torch>=1.11.0->pytorch-lightning) (3.27.2)\n",
            "Requirement already satisfied: lit in /usr/local/lib/python3.10/dist-packages (from triton==2.0.0->torch>=1.11.0->pytorch-lightning) (16.0.6)\n",
            "Requirement already satisfied: charset-normalizer<4,>=2 in /usr/local/lib/python3.10/dist-packages (from requests->transformers) (3.2.0)\n",
            "Requirement already satisfied: urllib3<3,>=1.21.1 in /usr/local/lib/python3.10/dist-packages (from requests->transformers) (2.0.4)\n",
            "Requirement already satisfied: certifi>=2017.4.17 in /usr/local/lib/python3.10/dist-packages (from requests->transformers) (2023.7.22)\n",
            "Requirement already satisfied: attrs>=17.3.0 in /usr/local/lib/python3.10/dist-packages (from aiohttp!=4.0.0a0,!=4.0.0a1->fsspec[http]>2021.06.0->pytorch-lightning) (23.1.0)\n",
            "Requirement already satisfied: multidict<7.0,>=4.5 in /usr/local/lib/python3.10/dist-packages (from aiohttp!=4.0.0a0,!=4.0.0a1->fsspec[http]>2021.06.0->pytorch-lightning) (6.0.4)\n",
            "Requirement already satisfied: async-timeout<5.0,>=4.0.0a3 in /usr/local/lib/python3.10/dist-packages (from aiohttp!=4.0.0a0,!=4.0.0a1->fsspec[http]>2021.06.0->pytorch-lightning) (4.0.3)\n",
            "Requirement already satisfied: yarl<2.0,>=1.0 in /usr/local/lib/python3.10/dist-packages (from aiohttp!=4.0.0a0,!=4.0.0a1->fsspec[http]>2021.06.0->pytorch-lightning) (1.9.2)\n",
            "Requirement already satisfied: frozenlist>=1.1.1 in /usr/local/lib/python3.10/dist-packages (from aiohttp!=4.0.0a0,!=4.0.0a1->fsspec[http]>2021.06.0->pytorch-lightning) (1.4.0)\n",
            "Requirement already satisfied: aiosignal>=1.1.2 in /usr/local/lib/python3.10/dist-packages (from aiohttp!=4.0.0a0,!=4.0.0a1->fsspec[http]>2021.06.0->pytorch-lightning) (1.3.1)\n",
            "Requirement already satisfied: MarkupSafe>=2.0 in /usr/local/lib/python3.10/dist-packages (from jinja2->torch>=1.11.0->pytorch-lightning) (2.1.3)\n",
            "Requirement already satisfied: mpmath>=0.19 in /usr/local/lib/python3.10/dist-packages (from sympy->torch>=1.11.0->pytorch-lightning) (1.3.0)\n",
            "Installing collected packages: tokenizers, huggingface-hub, transformers\n",
            "Successfully installed huggingface-hub-0.16.4 tokenizers-0.13.3 transformers-4.33.1\n"
          ]
        }
      ]
    },
    {
      "cell_type": "code",
      "source": [
        "!. script/download.sh"
      ],
      "metadata": {
        "colab": {
          "base_uri": "https://localhost:8080/"
        },
        "id": "zfBbRYjbnxNv",
        "outputId": "e4d4bc26-1cd0-4fb6-e669-d887bc4d9b52"
      },
      "execution_count": 4,
      "outputs": [
        {
          "output_type": "stream",
          "name": "stdout",
          "text": [
            "Requirement already satisfied: gdown in /usr/local/lib/python3.10/dist-packages (4.6.6)\n",
            "Requirement already satisfied: filelock in /usr/local/lib/python3.10/dist-packages (from gdown) (3.12.2)\n",
            "Requirement already satisfied: requests[socks] in /usr/local/lib/python3.10/dist-packages (from gdown) (2.31.0)\n",
            "Requirement already satisfied: six in /usr/local/lib/python3.10/dist-packages (from gdown) (1.16.0)\n",
            "Requirement already satisfied: tqdm in /usr/local/lib/python3.10/dist-packages (from gdown) (4.66.1)\n",
            "Requirement already satisfied: beautifulsoup4 in /usr/local/lib/python3.10/dist-packages (from gdown) (4.11.2)\n",
            "Requirement already satisfied: soupsieve>1.2 in /usr/local/lib/python3.10/dist-packages (from beautifulsoup4->gdown) (2.4.1)\n",
            "Requirement already satisfied: charset-normalizer<4,>=2 in /usr/local/lib/python3.10/dist-packages (from requests[socks]->gdown) (3.2.0)\n",
            "Requirement already satisfied: idna<4,>=2.5 in /usr/local/lib/python3.10/dist-packages (from requests[socks]->gdown) (3.4)\n",
            "Requirement already satisfied: urllib3<3,>=1.21.1 in /usr/local/lib/python3.10/dist-packages (from requests[socks]->gdown) (2.0.4)\n",
            "Requirement already satisfied: certifi>=2017.4.17 in /usr/local/lib/python3.10/dist-packages (from requests[socks]->gdown) (2023.7.22)\n",
            "Requirement already satisfied: PySocks!=1.5.7,>=1.5.6 in /usr/local/lib/python3.10/dist-packages (from requests[socks]->gdown) (1.7.1)\n",
            "Downloading...\n",
            "From: https://drive.google.com/uc?id=1Zfj2r_4UePdcngHltlLD7bDquReBLPxh\n",
            "To: /content/AI_TryOn_mini/stable_diffusion/models/sd/chilloutmix_NiPrunedFp16Fix.safetensors\n",
            "100% 2.13G/2.13G [00:42<00:00, 49.8MB/s]\n",
            "Downloading...\n",
            "From: https://drive.google.com/uc?id=1kwIyzQBLRH5nsLbUaIKvmjPcoTlau0Io\n",
            "To: /content/AI_TryOn_mini/stable_diffusion/models/sam/sam_vit_l_0b3195.pth\n",
            "100% 1.25G/1.25G [00:13<00:00, 92.2MB/s]\n",
            "Downloading...\n",
            "From: https://drive.google.com/uc?id=1vBDYpoYxZCf0q4YFogKn4oVarocfnbZB\n",
            "To: /content/AI_TryOn_mini/stable_diffusion/models/lora/girl_Mix_V40.safetensors\n",
            "100% 302M/302M [00:02<00:00, 107MB/s]\n",
            "Downloading...\n",
            "From: https://drive.google.com/uc?id=1V1QlQhtlUr3pDfqf3SKDCK2YYXzYilET\n",
            "To: /content/AI_TryOn_mini/stable_diffusion/models/cldm/diff_control_sd15_canny_fp16.safetensors\n",
            "100% 723M/723M [00:08<00:00, 89.2MB/s]\n"
          ]
        }
      ]
    },
    {
      "cell_type": "code",
      "source": [
        "!ngrok authtoken {your_token}"
      ],
      "metadata": {
        "colab": {
          "base_uri": "https://localhost:8080/"
        },
        "id": "vq-gi813qPNb",
        "outputId": "ed53c3a5-f0b8-45fb-d4d6-2f87a8229952"
      },
      "execution_count": 14,
      "outputs": [
        {
          "output_type": "stream",
          "name": "stdout",
          "text": [
            "Authtoken saved to configuration file: /root/.ngrok2/ngrok.yml\n"
          ]
        }
      ]
    },
    {
      "cell_type": "code",
      "source": [
        "from pyngrok import ngrok\n",
        "\n",
        "ngrok_tunnel = ngrok.connect(8001)\n",
        "print('Public URL:', ngrok_tunnel.public_url)"
      ],
      "metadata": {
        "colab": {
          "base_uri": "https://localhost:8080/"
        },
        "id": "lbj1rsYjqSxt",
        "outputId": "590f589d-ea9f-4504-99c7-7c5e5c9b2922"
      },
      "execution_count": 19,
      "outputs": [
        {
          "output_type": "stream",
          "name": "stderr",
          "text": [
            "WARNING:pyngrok.process.ngrok:t=2023-09-07T03:32:37+0000 lvl=warn msg=\"ngrok config file found at legacy location, move to XDG location\" xdg_path=/root/.config/ngrok/ngrok.yml legacy_path=/root/.ngrok2/ngrok.yml\n"
          ]
        },
        {
          "output_type": "stream",
          "name": "stdout",
          "text": [
            "Public URL: https://fe25-35-196-10-70.ngrok-free.app\n"
          ]
        }
      ]
    },
    {
      "cell_type": "code",
      "source": [
        "!python run_app.py"
      ],
      "metadata": {
        "colab": {
          "base_uri": "https://localhost:8080/"
        },
        "id": "6R4UGx32oY6C",
        "outputId": "dec74b3c-ea97-4b27-ef65-8a73d0829c6d"
      },
      "execution_count": 20,
      "outputs": [
        {
          "output_type": "stream",
          "name": "stdout",
          "text": [
            "/content/AI_TryOn_mini/stable_diffusion\n",
            "2023-09-07 03:32:44.971366: W tensorflow/compiler/tf2tensorrt/utils/py_utils.cc:38] TF-TRT Warning: Could not find TensorRT\n",
            "Using GPU\n",
            "Loading model\n",
            "Finishing loading\n",
            "\u001b[32mINFO\u001b[0m:     Started server process [\u001b[36m3004\u001b[0m]\n",
            "\u001b[32mINFO\u001b[0m:     Waiting for application startup.\n",
            "\u001b[32mINFO\u001b[0m:     Application startup complete.\n",
            "\u001b[32mINFO\u001b[0m:     Uvicorn running on \u001b[1mhttp://0.0.0.0:8001\u001b[0m (Press CTRL+C to quit)\n",
            "\u001b[32mINFO\u001b[0m:     68.181.126.124:0 - \"\u001b[1mGET / HTTP/1.1\u001b[0m\" \u001b[32m200 OK\u001b[0m\n",
            "\u001b[32mINFO\u001b[0m:     68.181.126.124:0 - \"\u001b[1mGET /assets/workshop_css/all.min.css HTTP/1.1\u001b[0m\" \u001b[32m200 OK\u001b[0m\n",
            "\u001b[32mINFO\u001b[0m:     68.181.126.124:0 - \"\u001b[1mGET /assets/workshop_css/page.css HTTP/1.1\u001b[0m\" \u001b[32m200 OK\u001b[0m\n",
            "\u001b[32mINFO\u001b[0m:     68.181.126.124:0 - \"\u001b[1mGET /assets/workshop_js/utils.js HTTP/1.1\u001b[0m\" \u001b[32m200 OK\u001b[0m\n",
            "\u001b[32mINFO\u001b[0m:     68.181.126.124:0 - \"\u001b[1mGET /assets/workshop_js/form.js HTTP/1.1\u001b[0m\" \u001b[32m200 OK\u001b[0m\n",
            "\u001b[32mINFO\u001b[0m:     68.181.126.124:0 - \"\u001b[1mGET /assets/workshop_js/globals.js HTTP/1.1\u001b[0m\" \u001b[32m200 OK\u001b[0m\n",
            "\u001b[32mINFO\u001b[0m:     68.181.126.124:0 - \"\u001b[1mGET /assets/workshop_js/btn_eraser.js HTTP/1.1\u001b[0m\" \u001b[32m200 OK\u001b[0m\n",
            "\u001b[32mINFO\u001b[0m:     68.181.126.124:0 - \"\u001b[1mGET /assets/workshop_js/btn_expand.js HTTP/1.1\u001b[0m\" \u001b[32m200 OK\u001b[0m\n",
            "\u001b[32mINFO\u001b[0m:     68.181.126.124:0 - \"\u001b[1mGET /assets/workshop_js/btn_undo.js HTTP/1.1\u001b[0m\" \u001b[32m200 OK\u001b[0m\n",
            "\u001b[32mINFO\u001b[0m:     68.181.126.124:0 - \"\u001b[1mGET /assets/workshop_js/btn_download.js HTTP/1.1\u001b[0m\" \u001b[32m200 OK\u001b[0m\n",
            "\u001b[32mINFO\u001b[0m:     68.181.126.124:0 - \"\u001b[1mGET /assets/workshop_js/btn_correction.js HTTP/1.1\u001b[0m\" \u001b[32m200 OK\u001b[0m\n",
            "\u001b[32mINFO\u001b[0m:     68.181.126.124:0 - \"\u001b[1mGET /assets/workshop_js/image.js HTTP/1.1\u001b[0m\" \u001b[32m200 OK\u001b[0m\n",
            "\u001b[32mINFO\u001b[0m:     68.181.126.124:0 - \"\u001b[1mGET /assets/workshop_js/btn_drawer.js HTTP/1.1\u001b[0m\" \u001b[32m200 OK\u001b[0m\n",
            "\u001b[32mINFO\u001b[0m:     68.181.126.124:0 - \"\u001b[1mGET /assets/workshop_js/btn_magic.js HTTP/1.1\u001b[0m\" \u001b[32m200 OK\u001b[0m\n",
            "\u001b[32mINFO\u001b[0m:     68.181.126.124:0 - \"\u001b[1mGET /assets/webfonts/fa-solid-900.woff2 HTTP/1.1\u001b[0m\" \u001b[32m200 OK\u001b[0m\n",
            "\u001b[32mINFO\u001b[0m:     68.181.126.124:0 - \"\u001b[1mGET /favicon.ico HTTP/1.1\u001b[0m\" \u001b[31m404 Not Found\u001b[0m\n",
            "get image (768, 384, 4)\n",
            "finish setting image\n",
            "\u001b[32mINFO\u001b[0m:     68.181.126.124:0 - \"\u001b[1mPOST /uploadimage HTTP/1.1\u001b[0m\" \u001b[32m200 OK\u001b[0m\n",
            "[[194. 327.]]\n",
            "[1]\n",
            "\u001b[32mINFO\u001b[0m:     68.181.126.124:0 - \"\u001b[1mPOST /segmentation/click HTTP/1.1\u001b[0m\" \u001b[32m200 OK\u001b[0m\n",
            "[[194. 327.]\n",
            " [253. 143.]]\n",
            "[1 0]\n",
            "\u001b[32mINFO\u001b[0m:     68.181.126.124:0 - \"\u001b[1mPOST /segmentation/click HTTP/1.1\u001b[0m\" \u001b[32m200 OK\u001b[0m\n",
            "[[194. 327.]\n",
            " [253. 143.]\n",
            " [180.  83.]]\n",
            "[1 0 0]\n",
            "\u001b[32mINFO\u001b[0m:     68.181.126.124:0 - \"\u001b[1mPOST /segmentation/click HTTP/1.1\u001b[0m\" \u001b[32m200 OK\u001b[0m\n",
            "[[194. 327.]\n",
            " [253. 143.]\n",
            " [180.  83.]\n",
            " [ 28. 530.]]\n",
            "[1 0 0 1]\n",
            "\u001b[32mINFO\u001b[0m:     68.181.126.124:0 - \"\u001b[1mPOST /segmentation/click HTTP/1.1\u001b[0m\" \u001b[32m200 OK\u001b[0m\n",
            "[[194. 327.]\n",
            " [253. 143.]\n",
            " [180.  83.]\n",
            " [ 28. 530.]\n",
            " [129. 745.]]\n",
            "[1 0 0 1 1]\n",
            "\u001b[32mINFO\u001b[0m:     68.181.126.124:0 - \"\u001b[1mPOST /segmentation/click HTTP/1.1\u001b[0m\" \u001b[32m200 OK\u001b[0m\n",
            "[[194. 327.]\n",
            " [253. 143.]\n",
            " [180.  83.]\n",
            " [ 28. 530.]\n",
            " [129. 745.]\n",
            " [114. 734.]]\n",
            "[1 0 0 1 1 1]\n",
            "\u001b[32mINFO\u001b[0m:     68.181.126.124:0 - \"\u001b[1mPOST /segmentation/click HTTP/1.1\u001b[0m\" \u001b[32m200 OK\u001b[0m\n",
            "\u001b[32mINFO\u001b[0m:     68.181.126.124:0 - \"\u001b[1mPOST /finish_click HTTP/1.1\u001b[0m\" \u001b[32m200 OK\u001b[0m\n",
            "/usr/local/lib/python3.10/dist-packages/lightning_fabric/utilities/seed.py:51: UserWarning: -1 is not in bounds, numpy accepts from 0 to 4294967295\n",
            "  rank_zero_warn(f\"{seed} is not in bounds, numpy accepts from {min_seed_value} to {max_seed_value}\")\n",
            "Global seed set to 185470573\n",
            "Loading model from stable_diffusion/models/sd/chilloutmix_NiPrunedFp16Fix.safetensors\n",
            "LatentDiffusion: Running in eps-prediction mode\n",
            "DiffusionWrapper has 859.52 M params.\n",
            "making attention of type 'vanilla' with 512 in_channels\n",
            "Working with z of shape (1, 4, 32, 32) = 4096 dimensions.\n",
            "making attention of type 'vanilla' with 512 in_channels\n",
            "Downloading (…)olve/main/vocab.json: 100% 961k/961k [00:00<00:00, 10.7MB/s]\n",
            "Downloading (…)olve/main/merges.txt: 100% 525k/525k [00:00<00:00, 18.7MB/s]\n",
            "Downloading (…)cial_tokens_map.json: 100% 389/389 [00:00<00:00, 2.66MB/s]\n",
            "Downloading (…)okenizer_config.json: 100% 905/905 [00:00<00:00, 5.65MB/s]\n",
            "Downloading (…)lve/main/config.json: 100% 4.52k/4.52k [00:00<00:00, 20.7MB/s]\n",
            "Downloading pytorch_model.bin: 100% 1.71G/1.71G [00:25<00:00, 67.7MB/s]\n",
            "/usr/local/lib/python3.10/dist-packages/torchvision/transforms/functional.py:1603: UserWarning: The default value of the antialias parameter of all the resizing transforms (Resize(), RandomResizedCrop(), etc.) will change from None to True in v0.17, in order to be consistent across the PIL and Tensor backends. To suppress this warning, directly pass antialias=True (recommended, future default), antialias=None (current default, which means False for Tensors and True for PIL), or antialias=False (only works on Tensors - PIL will still use antialiasing). This also applies if you are using the inference transforms from the models weights: update the call to weights.transforms(antialias=True).\n",
            "  warnings.warn(\n",
            "Offset cloned: 298 values\n",
            "init_image.shape torch.Size([2, 3, 768, 384])\n",
            "target t_enc is 21 steps\n",
            "Sampling:   0% 0/1 [00:00<?, ?it/s]\n",
            "data:   0% 0/1 [00:00<?, ?it/s]\u001b[A[  1  36  71 106 141 176 211 246 281 316 351 386 421 456 491 526 561 596\n",
            " 631 666 701 736 771 806 841 876 911 946 981]\n",
            "[  1  36  71 106 141 176 211 246 281 316 351 386 421 456 491 526 561 596\n",
            " 631 666 701]\n",
            "Running DDIM Sampling with 21 timesteps\n",
            "\n",
            "\n",
            "Decoding image:   0% 0/21 [00:00<?, ?it/s]\u001b[A\u001b[A\n",
            "\n",
            "Decoding image:   5% 1/21 [00:02<00:49,  2.45s/it]\u001b[A\u001b[A\n",
            "\n",
            "Decoding image:  10% 2/21 [00:04<00:44,  2.35s/it]\u001b[A\u001b[A\n",
            "\n",
            "Decoding image:  14% 3/21 [00:06<00:39,  2.18s/it]\u001b[A\u001b[A\n",
            "\n",
            "Decoding image:  19% 4/21 [00:08<00:35,  2.09s/it]\u001b[A\u001b[A\n",
            "\n",
            "Decoding image:  24% 5/21 [00:10<00:32,  2.05s/it]\u001b[A\u001b[A\n",
            "\n",
            "Decoding image:  29% 6/21 [00:12<00:30,  2.00s/it]\u001b[A\u001b[A\n",
            "\n",
            "Decoding image:  33% 7/21 [00:14<00:27,  1.95s/it]\u001b[A\u001b[A\n",
            "\n",
            "Decoding image:  38% 8/21 [00:16<00:24,  1.92s/it]\u001b[A\u001b[A\n",
            "\n",
            "Decoding image:  43% 9/21 [00:18<00:22,  1.91s/it]\u001b[A\u001b[A\n",
            "\n",
            "Decoding image:  48% 10/21 [00:20<00:20,  1.90s/it]\u001b[A\u001b[A\n",
            "\n",
            "Decoding image:  52% 11/21 [00:21<00:18,  1.89s/it]\u001b[A\u001b[A\n",
            "\n",
            "Decoding image:  57% 12/21 [00:23<00:16,  1.89s/it]\u001b[A\u001b[A\n",
            "\n",
            "Decoding image:  62% 13/21 [00:25<00:15,  1.91s/it]\u001b[A\u001b[A\n",
            "\n",
            "Decoding image:  67% 14/21 [00:27<00:13,  1.92s/it]\u001b[A\u001b[A\n",
            "\n",
            "Decoding image:  71% 15/21 [00:29<00:11,  1.91s/it]\u001b[A\u001b[A\n",
            "\n",
            "Decoding image:  76% 16/21 [00:31<00:09,  1.89s/it]\u001b[A\u001b[A\n",
            "\n",
            "Decoding image:  81% 17/21 [00:33<00:07,  1.87s/it]\u001b[A\u001b[A\n",
            "\n",
            "Decoding image:  86% 18/21 [00:35<00:05,  1.85s/it]\u001b[A\u001b[A\n",
            "\n",
            "Decoding image:  90% 19/21 [00:36<00:03,  1.86s/it]\u001b[A\u001b[A\n",
            "\n",
            "Decoding image:  95% 20/21 [00:38<00:01,  1.91s/it]\u001b[A\u001b[A\n",
            "\n",
            "Decoding image: 100% 21/21 [00:40<00:00,  1.95s/it]\n",
            "\n",
            "data: 100% 1/1 [00:41<00:00, 41.88s/it]\n",
            "Sampling: 100% 1/1 [00:41<00:00, 41.88s/it]\n",
            "rendered (768, 384, 3)\n",
            "control (1024, 512, 3)\n",
            "\u001b[32mINFO\u001b[0m:     68.181.126.124:0 - \"\u001b[1mPOST /controlnet/img2img HTTP/1.1\u001b[0m\" \u001b[32m200 OK\u001b[0m\n",
            "\u001b[32mINFO\u001b[0m:     68.181.126.124:0 - \"\u001b[1mPOST /undo HTTP/1.1\u001b[0m\" \u001b[32m200 OK\u001b[0m\n",
            "\u001b[32mINFO\u001b[0m:     Shutting down\n",
            "\u001b[32mINFO\u001b[0m:     Finished server process [\u001b[36m3004\u001b[0m]\n",
            "\u001b[31mERROR\u001b[0m:    Traceback (most recent call last):\n",
            "  File \"/usr/local/lib/python3.10/dist-packages/starlette/routing.py\", line 686, in lifespan\n",
            "    await receive()\n",
            "  File \"/usr/local/lib/python3.10/dist-packages/uvicorn/lifespan/on.py\", line 137, in receive\n",
            "    return await self.receive_queue.get()\n",
            "  File \"/usr/lib/python3.10/asyncio/queues.py\", line 159, in get\n",
            "    await getter\n",
            "asyncio.exceptions.CancelledError\n",
            "\n"
          ]
        }
      ]
    }
  ]
}